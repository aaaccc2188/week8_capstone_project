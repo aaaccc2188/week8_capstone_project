{
 "cells": [
  {
   "cell_type": "markdown",
   "metadata": {},
   "source": [
    "#### NOT REQUIRED- Food Production Index (Out of 100)"
   ]
  },
  {
   "cell_type": "code",
   "execution_count": 60,
   "metadata": {},
   "outputs": [],
   "source": [
    "# Food production\n",
    "food_production= fifty_countries_reset.loc['food production index']\n",
    "\n",
    "#food_production.head()"
   ]
  },
  {
   "cell_type": "code",
   "execution_count": 61,
   "metadata": {},
   "outputs": [],
   "source": [
    "# Food production drop indicator name and reset index\n",
    "food_production1= food_production.set_index('Country Name').fillna(0)\n",
    "\n",
    "food_production1= round (food_production1.drop(columns= ['2017','2018','2019']), 1)\n",
    "\n",
    "#food_production1.head()"
   ]
  },
  {
   "cell_type": "code",
   "execution_count": 62,
   "metadata": {},
   "outputs": [],
   "source": [
    "# Compare the food production for United States and Malaysia, over all the years\n",
    "#food_production1.loc['United States'].hvplot.line()* food_production1.loc['Malaysia'].hvplot.line()"
   ]
  },
  {
   "cell_type": "code",
   "execution_count": 63,
   "metadata": {},
   "outputs": [],
   "source": [
    "# Calculate the aggregate mean over all the years, by country\n",
    "food_production1_sum= food_production1.sum(axis= 1)\n",
    "\n",
    "food_production1_mean= round ((food_production1_sum/7), 1)\n",
    "\n",
    "#food_production1_mean.nsmallest(5)"
   ]
  },
  {
   "cell_type": "code",
   "execution_count": 64,
   "metadata": {},
   "outputs": [],
   "source": [
    "# Plot the Food Production Index\n",
    "#food_production1_mean.hvplot.bar(title= 'Food Production Index (Out of 100)', rot= 60)"
   ]
  },
  {
   "cell_type": "markdown",
   "metadata": {},
   "source": [
    "#### NOT REQUIRED- Population Density (people per sq. km. of land area)"
   ]
  },
  {
   "cell_type": "code",
   "execution_count": 65,
   "metadata": {},
   "outputs": [],
   "source": [
    "# Population Density\n",
    "population_density= fifty_countries_reset.loc['population density']\n",
    "\n",
    "#population_density.head()"
   ]
  },
  {
   "cell_type": "code",
   "execution_count": 66,
   "metadata": {},
   "outputs": [],
   "source": [
    "# Population density drop indicator name and reset index\n",
    "population_density1= population_density.set_index('Country Name').fillna(0)\n",
    "\n",
    "population_density1= round (population_density1.drop(columns= ['2019']), 1)\n",
    "                            \n",
    "#population_density1.head()"
   ]
  },
  {
   "cell_type": "code",
   "execution_count": 67,
   "metadata": {},
   "outputs": [],
   "source": [
    "# Which countries had the highest population density in 2016\n",
    "#population_density1['2016'].sort_values(ascending= False).head()"
   ]
  },
  {
   "cell_type": "code",
   "execution_count": 68,
   "metadata": {},
   "outputs": [],
   "source": [
    "# Calculate the aggregate mean over all the years, by country\n",
    "population_density1_sum= population_density1.sum(axis= 1)\n",
    "\n",
    "population_density1_mean= round ((population_density1_sum/9), 1)\n",
    "\n",
    "# Countries with the lowest population density\n",
    "#population_density1_mean.nsmallest(5)"
   ]
  },
  {
   "cell_type": "code",
   "execution_count": 69,
   "metadata": {},
   "outputs": [],
   "source": [
    "# What was the aggregated population density for Indonesia and Czech Republic\n",
    "#population_density1_mean.loc[['Indonesia','Czech Republic']]"
   ]
  },
  {
   "cell_type": "code",
   "execution_count": 70,
   "metadata": {},
   "outputs": [],
   "source": [
    "# Plot the Population Density\n",
    "#population_density1_mean.hvplot.bar(title= 'Population Density (People per sq. km. of land)', rot= 60)"
   ]
  },
  {
   "cell_type": "markdown",
   "metadata": {},
   "source": [
    "#### NOT REQUIRED- Unemployment (Percentage of labor force)"
   ]
  },
  {
   "cell_type": "code",
   "execution_count": 71,
   "metadata": {},
   "outputs": [],
   "source": [
    "# Unemployment\n",
    "unemployment= fifty_countries_reset.loc['unemployment (% of labor force)']\n",
    "\n",
    "#unemployment.head()"
   ]
  },
  {
   "cell_type": "code",
   "execution_count": 72,
   "metadata": {},
   "outputs": [],
   "source": [
    "# Unemployment drop indicator name and reset index\n",
    "unemployment1= unemployment.set_index('Country Name').fillna(0)\n",
    "\n",
    "unemployment1= round (unemployment1, 1)\n",
    "\n",
    "#unemployment1.head()"
   ]
  },
  {
   "cell_type": "code",
   "execution_count": 73,
   "metadata": {},
   "outputs": [],
   "source": [
    "# Calculate the aggregate mean over all the years, by country\n",
    "unemployment1_sum= unemployment1.sum(axis= 1)\n",
    "\n",
    "unemployment1_mean= round ((unemployment1_sum/10), 1)\n",
    "\n",
    "#unemployment1_mean.head()"
   ]
  },
  {
   "cell_type": "code",
   "execution_count": 74,
   "metadata": {},
   "outputs": [],
   "source": [
    "#unemployment1_mean.nlargest(5)"
   ]
  },
  {
   "cell_type": "code",
   "execution_count": 75,
   "metadata": {},
   "outputs": [],
   "source": [
    "# PLot the Unemployment\n",
    "#unemployment1_mean.hvplot.bar(title= 'Unemployment (% of labor force)', rot= 60)"
   ]
  },
  {
   "cell_type": "markdown",
   "metadata": {},
   "source": [
    "#### NOT REQUIRED- Labor force participation (% of population aged 15-64)"
   ]
  },
  {
   "cell_type": "code",
   "execution_count": 76,
   "metadata": {},
   "outputs": [],
   "source": [
    "# Labor force participation\n",
    "labor_participation= fifty_countries_reset.loc['labor force participation (%)']\n",
    "\n",
    "#labor_participation.head()"
   ]
  },
  {
   "cell_type": "code",
   "execution_count": 77,
   "metadata": {},
   "outputs": [],
   "source": [
    "# Labor force participation drop indicator name and reset index\n",
    "labor_participation1= labor_participation.set_index('Country Name').fillna(0)\n",
    "\n",
    "labor_participation1= round (labor_participation1, 1)\n",
    "\n",
    "#labor_participation1.head()"
   ]
  },
  {
   "cell_type": "code",
   "execution_count": 78,
   "metadata": {},
   "outputs": [],
   "source": [
    "# Calculate the aggregate mean over all the years, by country\n",
    "labor_participation1_sum= labor_participation1.sum(axis= 1)\n",
    "\n",
    "labor_participation1_mean= round ((labor_participation1_sum/10), 1)\n",
    "\n",
    "#labor_participation1_mean.head()"
   ]
  },
  {
   "cell_type": "code",
   "execution_count": 79,
   "metadata": {},
   "outputs": [],
   "source": [
    "# Plot the Labor Force Participation\n",
    "#labor_participation1_mean.hvplot.bar(title= 'Labor Force Participation (% of population aged 15-64)', rot= 60)"
   ]
  }
 ],
 "metadata": {
  "kernelspec": {
   "display_name": "Python [conda env:.conda-pyvizenv] *",
   "language": "python",
   "name": "conda-env-.conda-pyvizenv-py"
  },
  "language_info": {
   "codemirror_mode": {
    "name": "ipython",
    "version": 3
   },
   "file_extension": ".py",
   "mimetype": "text/x-python",
   "name": "python",
   "nbconvert_exporter": "python",
   "pygments_lexer": "ipython3",
   "version": "3.7.7"
  }
 },
 "nbformat": 4,
 "nbformat_minor": 4
}
